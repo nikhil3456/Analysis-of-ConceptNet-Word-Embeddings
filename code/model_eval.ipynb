{
 "cells": [
  {
   "cell_type": "code",
   "execution_count": 2,
   "metadata": {},
   "outputs": [],
   "source": [
    "import numpy as np\n",
    "import math\n",
    "from word_embedding import get_wordVectors\n",
    "from get_data import get_data\n"
   ]
  },
  {
   "cell_type": "code",
   "execution_count": 3,
   "metadata": {},
   "outputs": [],
   "source": [
    "def vector_len(v):\n",
    "    return math.sqrt(sum(x*x for x in v))"
   ]
  },
  {
   "cell_type": "code",
   "execution_count": 4,
   "metadata": {},
   "outputs": [],
   "source": [
    "def dot_product(v1, v2):\n",
    "    assert len(v1) == len(v2)\n",
    "    return sum(x*y for (x, y) in zip(v1, v2))"
   ]
  },
  {
   "cell_type": "code",
   "execution_count": 5,
   "metadata": {},
   "outputs": [],
   "source": [
    "def cosine_similarity(v1, v2):\n",
    "    \"\"\"\n",
    "    Returns the cosine of the angle between the two vectors.\n",
    "    Results range from -1 (very different) to 1 (very similar).\n",
    "    \"\"\"\n",
    "    return dot_product(v1, v2) / vector_len(v1)*vector_len(v2)"
   ]
  },
  {
   "cell_type": "code",
   "execution_count": 6,
   "metadata": {},
   "outputs": [],
   "source": [
    "def sorted_by_similarity(model, words, base_vector):\n",
    "    \"\"\"Returns words sorted by cosine distance to a given vector, most similar first\"\"\"\n",
    "    words_with_distance = [(cosine_similarity(base_vector, model[key]), key) for key in words if key in model]\n",
    "    # We want cosine similarity to be as large as possible (close to 1)\n",
    "    return sorted(words_with_distance, key=lambda t: t[0], reverse=True)"
   ]
  },
  {
   "cell_type": "code",
   "execution_count": 10,
   "metadata": {},
   "outputs": [],
   "source": [
    "def print_related(model, words, text):\n",
    "    base_word = model[text]\n",
    "    sorted_words = [\n",
    "        word for (dist, word) in\n",
    "            sorted_by_similarity(model, words, base_word)\n",
    "        ]\n",
    "    print(', '.join(sorted_words[:7])) #Printing the top 7 neighbours"
   ]
  },
  {
   "cell_type": "code",
   "execution_count": 8,
   "metadata": {},
   "outputs": [],
   "source": [
    "file_name=\"../data/Pictionary Master Target Phrase List - Phrase List.csv\"\n",
    "word_dic = get_data(file_name)\n",
    "\n",
    "numberbatch_file = 'numberbatch-en-17.06.txt'\n",
    "numberbatch_dir = '../data/'\n",
    "\n",
    "fpath = numberbatch_dir + numberbatch_file\n",
    "emb_dict = get_wordVectors(fpath)"
   ]
  },
  {
   "cell_type": "code",
   "execution_count": 11,
   "metadata": {},
   "outputs": [
    {
     "name": "stdout",
     "output_type": "stream",
     "text": [
      "orange, lemon, strawberry, pineapple, mango, plum, cherry\n"
     ]
    }
   ],
   "source": [
    "print_related(emb_dict, word_dic, 'orange')"
   ]
  },
  {
   "cell_type": "code",
   "execution_count": 12,
   "metadata": {},
   "outputs": [
    {
     "name": "stdout",
     "output_type": "stream",
     "text": [
      "boy, person, girl, husband, teenager, policewoman, old\n"
     ]
    }
   ],
   "source": [
    "print_related(emb_dict, word_dic, 'man')"
   ]
  },
  {
   "cell_type": "code",
   "execution_count": 13,
   "metadata": {},
   "outputs": [
    {
     "name": "stdout",
     "output_type": "stream",
     "text": [
      "pepper, onion, tomato, lemon, potato, salad, cinnamon\n"
     ]
    }
   ],
   "source": [
    "print_related(emb_dict, word_dic, 'pepper')"
   ]
  },
  {
   "cell_type": "code",
   "execution_count": 32,
   "metadata": {},
   "outputs": [
    {
     "name": "stdout",
     "output_type": "stream",
     "text": [
      "happy, celebrate, sad, smile, birthday, anniversary, surprised\n"
     ]
    }
   ],
   "source": [
    "print_related(emb_dict, word_dic, 'happy')"
   ]
  },
  {
   "cell_type": "code",
   "execution_count": 33,
   "metadata": {},
   "outputs": [
    {
     "name": "stdout",
     "output_type": "stream",
     "text": [
      "dance, music, gymnastics, karaoke, sing, hop, wiggle\n"
     ]
    }
   ],
   "source": [
    "print_related(emb_dict, word_dic, 'dance')"
   ]
  },
  {
   "cell_type": "code",
   "execution_count": 34,
   "metadata": {},
   "outputs": [
    {
     "name": "stdout",
     "output_type": "stream",
     "text": [
      "trip, travel, trek, cruise, hike, ride, visit\n"
     ]
    }
   ],
   "source": [
    "print_related(emb_dict, word_dic, 'trip')"
   ]
  },
  {
   "cell_type": "code",
   "execution_count": 35,
   "metadata": {},
   "outputs": [
    {
     "name": "stdout",
     "output_type": "stream",
     "text": [
      "outside, far, door, surround, gate, fence, window\n"
     ]
    }
   ],
   "source": [
    "print_related(emb_dict, word_dic, 'outside')"
   ]
  },
  {
   "cell_type": "code",
   "execution_count": 36,
   "metadata": {},
   "outputs": [
    {
     "name": "stdout",
     "output_type": "stream",
     "text": [
      "zero, negative, point, scale, calculator, level, low\n"
     ]
    }
   ],
   "source": [
    "print_related(emb_dict, word_dic, 'zero')"
   ]
  },
  {
   "cell_type": "code",
   "execution_count": 38,
   "metadata": {},
   "outputs": [
    {
     "name": "stdout",
     "output_type": "stream",
     "text": [
      "many, list, dial, telephone, id, volume, call\n"
     ]
    }
   ],
   "source": [
    "print_related(emb_dict, word_dic, 'number')"
   ]
  },
  {
   "cell_type": "code",
   "execution_count": null,
   "metadata": {},
   "outputs": [],
   "source": []
  }
 ],
 "metadata": {
  "kernelspec": {
   "display_name": "Python 3",
   "language": "python",
   "name": "python3"
  },
  "language_info": {
   "codemirror_mode": {
    "name": "ipython",
    "version": 3
   },
   "file_extension": ".py",
   "mimetype": "text/x-python",
   "name": "python",
   "nbconvert_exporter": "python",
   "pygments_lexer": "ipython3",
   "version": "3.6.8"
  }
 },
 "nbformat": 4,
 "nbformat_minor": 2
}
