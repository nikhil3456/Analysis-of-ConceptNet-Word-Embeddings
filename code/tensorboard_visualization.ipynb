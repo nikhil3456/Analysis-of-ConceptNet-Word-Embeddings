{
 "cells": [
  {
   "cell_type": "code",
   "execution_count": 28,
   "metadata": {},
   "outputs": [],
   "source": [
    "import numpy as np\n",
    "import os\n",
    "import math\n",
    "from word_embedding import get_wordVectors\n",
    "from get_data import get_data\n",
    "import tensorflow as tf\n",
    "from tensorflow.contrib.tensorboard.plugins import projector"
   ]
  },
  {
   "cell_type": "markdown",
   "metadata": {},
   "source": [
    "### Few Resources that I used for concept-Net's word-embeddings 'NumberBatch'\n",
    "- Github Repo: https://github.com/commonsense/conceptnet-numberbatch\n",
    "- PreTrained word-embeddings Download link: https://conceptnet.s3.amazonaws.com/downloads/2017/numberbatch/numberbatch-17.06.txt.gz\n",
    "\n",
    "### Link used for implementing Tensorboard visualization of this word embeddings\n",
    "- https://stackoverflow.com/questions/50492676/visualize-gensim-word2vec-embeddings-in-tensorboard-projector"
   ]
  },
  {
   "cell_type": "code",
   "execution_count": 29,
   "metadata": {},
   "outputs": [],
   "source": [
    "file_name=\"../data/Pictionary Master Target Phrase List - Phrase List.csv\"\n",
    "word_dic = get_data(file_name)\n",
    "\n",
    "numberbatch_file = 'numberbatch-en-17.06.txt'\n",
    "numberbatch_dir = '../data/'\n",
    "\n",
    "fpath = numberbatch_dir + numberbatch_file\n",
    "emb_dict = get_wordVectors(fpath)\n",
    "\n",
    "FOLDER_PATH = \"/home/nikhil/conceptNet/code\"\n",
    "\n",
    "VOCAB_SIZE = len(word_dic)\n",
    "EMBEDDING_DIM = emb_dict['orange'].shape[0]"
   ]
  },
  {
   "cell_type": "code",
   "execution_count": 30,
   "metadata": {},
   "outputs": [],
   "source": [
    "word_vectors = []\n",
    "for key in word_dic:\n",
    "    if key in emb_dict: word_vectors.append(emb_dict[key])\n",
    "    else: word_vectors.append(emb_dict['##'])\n",
    "\n",
    "word_vectors = np.stack(word_vectors, axis=0)\n",
    "# print (word_vectors[0])\n",
    "# print (word_vectors.shape)"
   ]
  },
  {
   "cell_type": "code",
   "execution_count": 31,
   "metadata": {},
   "outputs": [],
   "source": [
    "embeddings = emb_dict\n",
    "embeddings_vectors  = np.stack(list(embeddings.values()), axis=0)\n",
    "\n",
    "# print (embeddings_vectors[0])\n",
    "# print (embeddings_vectors.shape)"
   ]
  },
  {
   "cell_type": "code",
   "execution_count": 32,
   "metadata": {},
   "outputs": [
    {
     "name": "stdout",
     "output_type": "stream",
     "text": [
      "(1751, 300)\n",
      "model saved in path: model_dir/model.ckpt\n"
     ]
    }
   ],
   "source": [
    "# For visualizing words in pictionary master List, uncomment below line\n",
    "vectors = word_vectors\n",
    "words = word_dic\n",
    "\n",
    "print (vectors.shape)\n",
    "emb = tf.Variable(vectors, name='word_embedding')\n",
    "init_op = tf.global_variables_initializer()\n",
    "saver = tf.train.Saver()\n",
    "\n",
    "with tf.Session() as sess:\n",
    "    sess.run(init_op)\n",
    "    save_path = saver.save(sess, \"model_dir/model.ckpt\")\n",
    "    print(\"model saved in path: %s\" % save_path)"
   ]
  },
  {
   "cell_type": "code",
   "execution_count": 33,
   "metadata": {},
   "outputs": [],
   "source": [
    "words = '\\n'.join(list(words.keys()))\n",
    "\n",
    "with open(os.path.join('model_dir', 'metadata.tsv'), 'w') as f:\n",
    "    f.write(words)"
   ]
  },
  {
   "cell_type": "code",
   "execution_count": null,
   "metadata": {},
   "outputs": [],
   "source": []
  }
 ],
 "metadata": {
  "kernelspec": {
   "display_name": "Python 3",
   "language": "python",
   "name": "python3"
  },
  "language_info": {
   "codemirror_mode": {
    "name": "ipython",
    "version": 3
   },
   "file_extension": ".py",
   "mimetype": "text/x-python",
   "name": "python",
   "nbconvert_exporter": "python",
   "pygments_lexer": "ipython3",
   "version": "3.6.8"
  }
 },
 "nbformat": 4,
 "nbformat_minor": 2
}
