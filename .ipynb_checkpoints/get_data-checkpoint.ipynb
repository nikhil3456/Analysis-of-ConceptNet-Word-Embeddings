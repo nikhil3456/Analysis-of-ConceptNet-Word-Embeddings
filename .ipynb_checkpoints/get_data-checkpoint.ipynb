{
 "cells": [
  {
   "cell_type": "code",
   "execution_count": 1,
   "metadata": {},
   "outputs": [],
   "source": [
    "import csv"
   ]
  },
  {
   "cell_type": "code",
   "execution_count": 4,
   "metadata": {},
   "outputs": [],
   "source": [
    "## returns a dictionary corresponding to the given csv file in path\n",
    "def get_data(path):\n",
    "    word_dict = {}\n",
    "    reader = csv.reader(open(path, \"rb\"), delimiter=\",\")\n",
    "    data = list(reader)\n",
    "    for row in data:\n",
    "        word_dict[row[0]] = {'pos':row[2]}\n",
    "    return word_dict\n"
   ]
  },
  {
   "cell_type": "code",
   "execution_count": null,
   "metadata": {},
   "outputs": [],
   "source": [
    "if __name__ == \"__main__\":\n",
    "    file_name=\"../data/Pictionary Master Target Phrase List - Phrase List.csv\"\n",
    "    print get_data(file_name)"
   ]
  }
 ],
 "metadata": {
  "kernelspec": {
   "display_name": "Python 3",
   "language": "python",
   "name": "python3"
  },
  "language_info": {
   "codemirror_mode": {
    "name": "ipython",
    "version": 3
   },
   "file_extension": ".py",
   "mimetype": "text/x-python",
   "name": "python",
   "nbconvert_exporter": "python",
   "pygments_lexer": "ipython3",
   "version": "3.7.1"
  }
 },
 "nbformat": 4,
 "nbformat_minor": 2
}
